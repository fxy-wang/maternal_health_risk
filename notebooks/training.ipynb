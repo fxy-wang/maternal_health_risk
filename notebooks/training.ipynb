{
 "cells": [
  {
   "cell_type": "markdown",
   "metadata": {},
   "source": [
    "### Load and Process Data"
   ]
  },
  {
   "cell_type": "markdown",
   "metadata": {},
   "source": [
    "**Preprocess CSV**"
   ]
  },
  {
   "cell_type": "code",
   "execution_count": 1,
   "metadata": {},
   "outputs": [],
   "source": [
    "from scripts.data_preprocessing import *\n",
    "\n",
    "X,y = preprocess_data('../data/Maternal Health Risk Data Set.csv',drop_dup=False)"
   ]
  },
  {
   "cell_type": "markdown",
   "metadata": {},
   "source": [
    "**Split into train and test sets**"
   ]
  },
  {
   "cell_type": "code",
   "execution_count": 2,
   "metadata": {},
   "outputs": [
    {
     "name": "stdout",
     "output_type": "stream",
     "text": [
      "Dataset has 809 training points and 203 testing points\n",
      "\n"
     ]
    }
   ],
   "source": [
    "from sklearn.model_selection import train_test_split\n",
    "\n",
    "X_train, X_test, y_train, y_test = train_test_split(X,y, test_size = 0.2,random_state=1)\n",
    "print(f\"Dataset has {X_train.shape[0]} training points and {X_test.shape[0]} testing points\\n\")"
   ]
  },
  {
   "cell_type": "markdown",
   "metadata": {},
   "source": [
    "### Train Classifiers\n",
    "\n",
    "Training 3 different classifiers: XGBoost, SVM, and random forest. "
   ]
  },
  {
   "cell_type": "markdown",
   "metadata": {},
   "source": [
    "**Define Classifiers**"
   ]
  },
  {
   "cell_type": "code",
   "execution_count": 3,
   "metadata": {},
   "outputs": [],
   "source": [
    "from sklearn.ensemble import RandomForestClassifier\n",
    "from sklearn.svm import SVC\n",
    "import xgboost\n",
    "\n",
    "classifiers = []\n",
    "\n",
    "xgb = xgboost.XGBClassifier()\n",
    "classifiers.append(xgb)\n",
    "\n",
    "svm = SVC()\n",
    "classifiers.append(svm)\n",
    "\n",
    "rf = RandomForestClassifier(random_state=42)\n",
    "classifiers.append(rf)"
   ]
  },
  {
   "cell_type": "code",
   "execution_count": 4,
   "metadata": {},
   "outputs": [],
   "source": [
    "# Define parameters for cross-fold\n",
    "\n",
    "xgb_params = {\n",
    "    'max_depth': [None, 10, 20, 30],\n",
    "    'eta': [.001, .01, .1, 1]\n",
    "}\n",
    "\n",
    "svm_params = {\n",
    "        'C': [0.01, 0.1, 1, 10, 100],\n",
    "        'gamma': [1, 0.1, 0.01, 0.001, 0.0001],\n",
    "        'kernel': ['linear', 'rbf']\n",
    "    }\n",
    "\n",
    "rf_params = {\n",
    "    'n_estimators': [100, 200, 300],  \n",
    "    'max_depth': [None, 10, 20, 30],  \n",
    "    'min_samples_split': [2, 5, 10],  \n",
    "    'min_samples_leaf': [1, 2, 4]  \n",
    "}\n",
    "\n",
    "params = [xgb_params, svm_params, rf_params]"
   ]
  },
  {
   "cell_type": "markdown",
   "metadata": {},
   "source": [
    "**Train on the classifiers**"
   ]
  },
  {
   "cell_type": "code",
   "execution_count": 5,
   "metadata": {},
   "outputs": [
    {
     "name": "stdout",
     "output_type": "stream",
     "text": [
      "Tuned XGBClassifier Accuracy: 91.47%\n",
      "Best Hyperparameters: {'eta': 1, 'max_depth': None}\n",
      "              precision    recall  f1-score   support\n",
      "\n",
      "         0.0       0.91      0.87      0.89        79\n",
      "         1.0       0.83      0.87      0.85        60\n",
      "         2.0       0.95      0.95      0.95        64\n",
      "\n",
      "    accuracy                           0.90       203\n",
      "   macro avg       0.90      0.90      0.90       203\n",
      "weighted avg       0.90      0.90      0.90       203\n",
      "\n",
      "Tuned SVC Accuracy: 90.61%\n",
      "Best Hyperparameters: {'C': 100, 'gamma': 1, 'kernel': 'rbf'}\n",
      "              precision    recall  f1-score   support\n",
      "\n",
      "         0.0       0.80      0.84      0.81        79\n",
      "         1.0       0.82      0.85      0.84        60\n",
      "         2.0       0.91      0.83      0.87        64\n",
      "\n",
      "    accuracy                           0.84       203\n",
      "   macro avg       0.84      0.84      0.84       203\n",
      "weighted avg       0.84      0.84      0.84       203\n",
      "\n",
      "Tuned RandomForestClassifier Accuracy: 91.47%\n",
      "Best Hyperparameters: {'max_depth': None, 'min_samples_leaf': 1, 'min_samples_split': 2, 'n_estimators': 100}\n",
      "              precision    recall  f1-score   support\n",
      "\n",
      "         0.0       0.90      0.82      0.86        79\n",
      "         1.0       0.83      0.87      0.85        60\n",
      "         2.0       0.91      0.97      0.94        64\n",
      "\n",
      "    accuracy                           0.88       203\n",
      "   macro avg       0.88      0.89      0.88       203\n",
      "weighted avg       0.88      0.88      0.88       203\n",
      "\n"
     ]
    }
   ],
   "source": [
    "from scripts.train_model import *\n",
    "\n",
    "grids = grid_search(classifiers,params,X_train,y_train,X_test,y_test)"
   ]
  },
  {
   "cell_type": "markdown",
   "metadata": {},
   "source": [
    "### Save Best Model"
   ]
  },
  {
   "cell_type": "code",
   "execution_count": 6,
   "metadata": {},
   "outputs": [],
   "source": [
    "best_model = grids[0]['grid']"
   ]
  },
  {
   "cell_type": "code",
   "execution_count": 7,
   "metadata": {},
   "outputs": [],
   "source": [
    "import pickle\n",
    "\n",
    "with open('../models/best_model.pkl','wb') as f:\n",
    "    pickle.dump(best_model,f)"
   ]
  }
 ],
 "metadata": {
  "kernelspec": {
   "display_name": "Python 3",
   "language": "python",
   "name": "python3"
  },
  "language_info": {
   "codemirror_mode": {
    "name": "ipython",
    "version": 3
   },
   "file_extension": ".py",
   "mimetype": "text/x-python",
   "name": "python",
   "nbconvert_exporter": "python",
   "pygments_lexer": "ipython3",
   "version": "3.11.4"
  }
 },
 "nbformat": 4,
 "nbformat_minor": 2
}
